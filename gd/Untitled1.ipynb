{
 "cells": [
  {
   "cell_type": "code",
   "execution_count": 10,
   "id": "f6b13ced",
   "metadata": {},
   "outputs": [
    {
     "ename": "HttpError",
     "evalue": "<HttpError 404 when requesting https://www.googleapis.com/drive/v3/files/https%3A%2F%2Fdocs.google.com%2Fdocument%2Fd%2F1i_IRSNDxRgti-w1Ivy1s0BSrKYcSvVKJa9yXkhyMzAA%2Fedit%3Fusp%3Ddrive_link?alt=media returned \"File not found: https://docs.google.com/document/d/1i_IRSNDxRgti-w1Ivy1s0BSrKYcSvVKJa9yXkhyMzAA/edit?usp=drive_link.\". Details: \"[{'message': 'File not found: https://docs.google.com/document/d/1i_IRSNDxRgti-w1Ivy1s0BSrKYcSvVKJa9yXkhyMzAA/edit?usp=drive_link.', 'domain': 'global', 'reason': 'notFound', 'location': 'fileId', 'locationType': 'parameter'}]\">",
     "output_type": "error",
     "traceback": [
      "\u001b[0;31m---------------------------------------------------------------------------\u001b[0m",
      "\u001b[0;31mHttpError\u001b[0m                                 Traceback (most recent call last)",
      "Cell \u001b[0;32mIn[10], line 16\u001b[0m\n\u001b[1;32m     14\u001b[0m request \u001b[38;5;241m=\u001b[39m drive_service\u001b[38;5;241m.\u001b[39mfiles()\u001b[38;5;241m.\u001b[39mget_media(fileId\u001b[38;5;241m=\u001b[39mfile_id)\n\u001b[1;32m     15\u001b[0m fh \u001b[38;5;241m=\u001b[39m \u001b[38;5;28mopen\u001b[39m(\u001b[38;5;124m'\u001b[39m\u001b[38;5;124m3322600011_teknologi.docx\u001b[39m\u001b[38;5;124m'\u001b[39m, \u001b[38;5;124m'\u001b[39m\u001b[38;5;124mwb\u001b[39m\u001b[38;5;124m'\u001b[39m)\n\u001b[0;32m---> 16\u001b[0m media_request \u001b[38;5;241m=\u001b[39m \u001b[43mrequest\u001b[49m\u001b[38;5;241;43m.\u001b[39;49m\u001b[43mexecute\u001b[49m\u001b[43m(\u001b[49m\u001b[43m)\u001b[49m\n\u001b[1;32m     17\u001b[0m fh\u001b[38;5;241m.\u001b[39mwrite(media_request)\n\u001b[1;32m     18\u001b[0m fh\u001b[38;5;241m.\u001b[39mclose()\n",
      "File \u001b[0;32m~/tomatopotato/lib/python3.10/site-packages/googleapiclient/_helpers.py:130\u001b[0m, in \u001b[0;36mpositional.<locals>.positional_decorator.<locals>.positional_wrapper\u001b[0;34m(*args, **kwargs)\u001b[0m\n\u001b[1;32m    128\u001b[0m     \u001b[38;5;28;01melif\u001b[39;00m positional_parameters_enforcement \u001b[38;5;241m==\u001b[39m POSITIONAL_WARNING:\n\u001b[1;32m    129\u001b[0m         logger\u001b[38;5;241m.\u001b[39mwarning(message)\n\u001b[0;32m--> 130\u001b[0m \u001b[38;5;28;01mreturn\u001b[39;00m \u001b[43mwrapped\u001b[49m\u001b[43m(\u001b[49m\u001b[38;5;241;43m*\u001b[39;49m\u001b[43margs\u001b[49m\u001b[43m,\u001b[49m\u001b[43m \u001b[49m\u001b[38;5;241;43m*\u001b[39;49m\u001b[38;5;241;43m*\u001b[39;49m\u001b[43mkwargs\u001b[49m\u001b[43m)\u001b[49m\n",
      "File \u001b[0;32m~/tomatopotato/lib/python3.10/site-packages/googleapiclient/http.py:938\u001b[0m, in \u001b[0;36mHttpRequest.execute\u001b[0;34m(self, http, num_retries)\u001b[0m\n\u001b[1;32m    936\u001b[0m     callback(resp)\n\u001b[1;32m    937\u001b[0m \u001b[38;5;28;01mif\u001b[39;00m resp\u001b[38;5;241m.\u001b[39mstatus \u001b[38;5;241m>\u001b[39m\u001b[38;5;241m=\u001b[39m \u001b[38;5;241m300\u001b[39m:\n\u001b[0;32m--> 938\u001b[0m     \u001b[38;5;28;01mraise\u001b[39;00m HttpError(resp, content, uri\u001b[38;5;241m=\u001b[39m\u001b[38;5;28mself\u001b[39m\u001b[38;5;241m.\u001b[39muri)\n\u001b[1;32m    939\u001b[0m \u001b[38;5;28;01mreturn\u001b[39;00m \u001b[38;5;28mself\u001b[39m\u001b[38;5;241m.\u001b[39mpostproc(resp, content)\n",
      "\u001b[0;31mHttpError\u001b[0m: <HttpError 404 when requesting https://www.googleapis.com/drive/v3/files/https%3A%2F%2Fdocs.google.com%2Fdocument%2Fd%2F1i_IRSNDxRgti-w1Ivy1s0BSrKYcSvVKJa9yXkhyMzAA%2Fedit%3Fusp%3Ddrive_link?alt=media returned \"File not found: https://docs.google.com/document/d/1i_IRSNDxRgti-w1Ivy1s0BSrKYcSvVKJa9yXkhyMzAA/edit?usp=drive_link.\". Details: \"[{'message': 'File not found: https://docs.google.com/document/d/1i_IRSNDxRgti-w1Ivy1s0BSrKYcSvVKJa9yXkhyMzAA/edit?usp=drive_link.', 'domain': 'global', 'reason': 'notFound', 'location': 'fileId', 'locationType': 'parameter'}]\">"
     ]
    }
   ],
   "source": [
    "from google.oauth2 import service_account\n",
    "from googleapiclient.discovery import build\n",
    "\n",
    "creds_path = 'eng-charge-381901-e69994610490.json'\n",
    "\n",
    "# Buat klien Google Drive\n",
    "creds = service_account.Credentials.from_service_account_file(\n",
    "    creds_path, scopes=['https://www.googleapis.com/auth/drive'])\n",
    "drive_service = build('drive', 'v3', credentials=creds)\n",
    "\n",
    "# ID file di Google Drive\n",
    "file_id = 'https://docs.google.com/document/d/1i_IRSNDxRgti-w1Ivy1s0BSrKYcSvVKJa9yXkhyMzAA/edit?usp=drive_link'\n",
    "# Unduh file\n",
    "request = drive_service.files().get_media(fileId=file_id)\n",
    "fh = open('3322600011_teknologi.docx', 'wb')\n",
    "media_request = request.execute()\n",
    "fh.write(media_request)\n",
    "fh.close()"
   ]
  },
  {
   "cell_type": "code",
   "execution_count": 2,
   "id": "65d861dd",
   "metadata": {},
   "outputs": [
    {
     "ename": "ModuleNotFoundError",
     "evalue": "No module named 'flask'",
     "output_type": "error",
     "traceback": [
      "\u001b[0;31m---------------------------------------------------------------------------\u001b[0m",
      "\u001b[0;31mModuleNotFoundError\u001b[0m                       Traceback (most recent call last)",
      "Cell \u001b[0;32mIn[2], line 1\u001b[0m\n\u001b[0;32m----> 1\u001b[0m \u001b[38;5;28;01mfrom\u001b[39;00m \u001b[38;5;21;01mflask\u001b[39;00m \u001b[38;5;28;01mimport\u001b[39;00m Flask\n\u001b[1;32m      2\u001b[0m \u001b[38;5;28;01mfrom\u001b[39;00m \u001b[38;5;21;01mg_drive_service\u001b[39;00m \u001b[38;5;28;01mimport\u001b[39;00m GoogleDriveService\n\u001b[1;32m      4\u001b[0m app\u001b[38;5;241m=\u001b[39mFlask(\u001b[38;5;18m__name__\u001b[39m)\n",
      "\u001b[0;31mModuleNotFoundError\u001b[0m: No module named 'flask'"
     ]
    }
   ],
   "source": [
    "\n",
    "from flask import Flask\n",
    "from g_drive_service import GoogleDriveService\n",
    "\n",
    "app=Flask(__name__)\n",
    "\n",
    "\n",
    "\n",
    "@app.get('/gdrive-files')\n",
    "def getFileListFromGDrive():\n",
    "    selected_fields=\"files(id,name,webViewLink)\"\n",
    "    g_drive_service=GoogleDriveService().build()\n",
    "    list_file=g_drive_service.files().list(fields=selected_fields).execute()\n",
    "    return {\"files\":list_file.get(\"files\")}\n",
    "\n",
    "\n",
    "if __name__=='__main__':\n",
    "    app.run(debug=True)"
   ]
  },
  {
   "cell_type": "code",
   "execution_count": 4,
   "id": "b66436f6",
   "metadata": {},
   "outputs": [],
   "source": [
    "import regex as re\n",
    "folder_main = \"/Users/farrelmanazilin/Downloads/data/Text Mining/Berita\"\n",
    "sub_folder = [\"Kesehatan\",\"Kriminal\",\"Olahraga\",\"Politik\",\"Teknologi\"]\n",
    "filter = \"^3322600011\"\n"
   ]
  },
  {
   "cell_type": "code",
   "execution_count": null,
   "id": "ce5282df",
   "metadata": {},
   "outputs": [],
   "source": []
  }
 ],
 "metadata": {
  "kernelspec": {
   "display_name": "Python 3 (ipykernel)",
   "language": "python",
   "name": "python3"
  },
  "language_info": {
   "codemirror_mode": {
    "name": "ipython",
    "version": 3
   },
   "file_extension": ".py",
   "mimetype": "text/x-python",
   "name": "python",
   "nbconvert_exporter": "python",
   "pygments_lexer": "ipython3",
   "version": "3.10.6"
  }
 },
 "nbformat": 4,
 "nbformat_minor": 5
}
