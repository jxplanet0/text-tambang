{
 "cells": [
  {
   "cell_type": "code",
   "execution_count": 1,
   "id": "f6b13ced",
   "metadata": {},
   "outputs": [],
   "source": [
    "from google.oauth2 import service_account\n",
    "from googleapiclient.discovery import build\n",
    "\n",
    "creds_path = '/Users/farrelmanazilin/Library/CloudStorage/GoogleDrive-fmanazili@gmail.com/My Drive/Satria Data Hitam - Penambangan Data.docx'\n",
    "\n",
    "# Buat klien Google Drive\n",
    "creds = service_account.Credentials.from_service_account_file(\n",
    "    creds_path, scopes=['https://www.googleapis.com/auth/drive'])\n",
    "drive_service = build('drive', 'v3', credentials=creds)\n",
    "\n",
    "# ID file di Google Drive\n",
    "file_id = 'ID_FILE_GOOGLE_DRIVE'\n",
    "\n",
    "# Unduh file\n",
    "request = drive_service.files().get_media(fileId=file_id)\n",
    "fh = open('nama_file_lokal', 'wb')\n",
    "media_request = request.execute()\n",
    "fh.write(media_request)\n",
    "fh.close()"
   ]
  },
  {
   "cell_type": "code",
   "execution_count": 2,
   "id": "65d861dd",
   "metadata": {},
   "outputs": [
    {
     "ename": "ModuleNotFoundError",
     "evalue": "No module named 'flask'",
     "output_type": "error",
     "traceback": [
      "\u001b[0;31m---------------------------------------------------------------------------\u001b[0m",
      "\u001b[0;31mModuleNotFoundError\u001b[0m                       Traceback (most recent call last)",
      "Cell \u001b[0;32mIn[2], line 1\u001b[0m\n\u001b[0;32m----> 1\u001b[0m \u001b[38;5;28;01mfrom\u001b[39;00m \u001b[38;5;21;01mflask\u001b[39;00m \u001b[38;5;28;01mimport\u001b[39;00m Flask\n\u001b[1;32m      2\u001b[0m \u001b[38;5;28;01mfrom\u001b[39;00m \u001b[38;5;21;01mg_drive_service\u001b[39;00m \u001b[38;5;28;01mimport\u001b[39;00m GoogleDriveService\n\u001b[1;32m      4\u001b[0m app\u001b[38;5;241m=\u001b[39mFlask(\u001b[38;5;18m__name__\u001b[39m)\n",
      "\u001b[0;31mModuleNotFoundError\u001b[0m: No module named 'flask'"
     ]
    }
   ],
   "source": [
    "\n",
    "from flask import Flask\n",
    "from g_drive_service import GoogleDriveService\n",
    "\n",
    "app=Flask(__name__)\n",
    "\n",
    "\n",
    "\n",
    "@app.get('/gdrive-files')\n",
    "def getFileListFromGDrive():\n",
    "    selected_fields=\"files(id,name,webViewLink)\"\n",
    "    g_drive_service=GoogleDriveService().build()\n",
    "    list_file=g_drive_service.files().list(fields=selected_fields).execute()\n",
    "    return {\"files\":list_file.get(\"files\")}\n",
    "\n",
    "\n",
    "if __name__=='__main__':\n",
    "    app.run(debug=True)"
   ]
  },
  {
   "cell_type": "code",
   "execution_count": 4,
   "id": "b66436f6",
   "metadata": {},
   "outputs": [],
   "source": [
    "import regex as re\n",
    "folder_main = \"/Users/farrelmanazilin/Downloads/data/Text Mining/Berita\"\n",
    "sub_folder = [\"Kesehatan\",\"Kriminal\",\"Olahraga\",\"Politik\",\"Teknologi\"]\n",
    "filter = \"^3322600011\"\n"
   ]
  },
  {
   "cell_type": "code",
   "execution_count": null,
   "id": "ce5282df",
   "metadata": {},
   "outputs": [],
   "source": []
  }
 ],
 "metadata": {
  "kernelspec": {
   "display_name": "Python 3 (ipykernel)",
   "language": "python",
   "name": "python3"
  },
  "language_info": {
   "codemirror_mode": {
    "name": "ipython",
    "version": 3
   },
   "file_extension": ".py",
   "mimetype": "text/x-python",
   "name": "python",
   "nbconvert_exporter": "python",
   "pygments_lexer": "ipython3",
   "version": "3.10.6"
  }
 },
 "nbformat": 4,
 "nbformat_minor": 5
}
