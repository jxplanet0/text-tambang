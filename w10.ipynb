{
 "cells": [
  {
   "cell_type": "code",
   "execution_count": 33,
   "id": "a471b320",
   "metadata": {},
   "outputs": [],
   "source": [
    "# import the dataset from sklearn\n",
    "from sklearn.datasets import fetch_20newsgroups\n",
    "from sklearn.cluster import KMeans\n",
    "from sklearn.decomposition import PCA\n",
    "\n",
    "# import other required libs\n",
    "import pandas as pd\n",
    "import numpy as np\n",
    "\n",
    "# string manipulation libs\n",
    "import re\n",
    "import string\n",
    "import nltk\n",
    "from nltk.corpus import stopwords\n",
    "\n",
    "# viz libs\n",
    "import matplotlib.pyplot as plt\n",
    "import seaborn as sns\n",
    "\n",
    "categories = [\n",
    "    'comp.graphics',\n",
    "    'comp.os.ms-windows.misc',\n",
    "    'rec.sport.baseball',\n",
    "    'rec.sport.hockey',\n",
    "    'alt.atheism',\n",
    "    'soc.religion.christian'\n",
    "]\n",
    "dataset = fetch_20newsgroups(subset='train', categories=categories, shuffle=True, remove=('headers', 'footers', 'quotes'))"
   ]
  },
  {
   "cell_type": "code",
   "execution_count": 34,
   "id": "4673dc59",
   "metadata": {},
   "outputs": [
    {
     "data": {
      "text/html": [
       "<div>\n",
       "<style scoped>\n",
       "    .dataframe tbody tr th:only-of-type {\n",
       "        vertical-align: middle;\n",
       "    }\n",
       "\n",
       "    .dataframe tbody tr th {\n",
       "        vertical-align: top;\n",
       "    }\n",
       "\n",
       "    .dataframe thead th {\n",
       "        text-align: right;\n",
       "    }\n",
       "</style>\n",
       "<table border=\"1\" class=\"dataframe\">\n",
       "  <thead>\n",
       "    <tr style=\"text-align: right;\">\n",
       "      <th></th>\n",
       "      <th>corpus</th>\n",
       "    </tr>\n",
       "  </thead>\n",
       "  <tbody>\n",
       "    <tr>\n",
       "      <th>0</th>\n",
       "      <td>\\nThey tried their best not to show it, believ...</td>\n",
       "    </tr>\n",
       "    <tr>\n",
       "      <th>1</th>\n",
       "      <td>\\nStankiewicz?  I doubt it.\\n\\nKoufax was one ...</td>\n",
       "    </tr>\n",
       "    <tr>\n",
       "      <th>2</th>\n",
       "      <td>\\n[deletia- and so on]\\n\\nI seem to have been ...</td>\n",
       "    </tr>\n",
       "    <tr>\n",
       "      <th>3</th>\n",
       "      <td>Excuse the sheer newbieness of this post, but ...</td>\n",
       "    </tr>\n",
       "    <tr>\n",
       "      <th>4</th>\n",
       "      <td>==============================================...</td>\n",
       "    </tr>\n",
       "    <tr>\n",
       "      <th>...</th>\n",
       "      <td>...</td>\n",
       "    </tr>\n",
       "    <tr>\n",
       "      <th>3446</th>\n",
       "      <td>\\n  Or, with no dictionary available, they cou...</td>\n",
       "    </tr>\n",
       "    <tr>\n",
       "      <th>3447</th>\n",
       "      <td>\\n\\nSorry to disappoint you but the Red Wings ...</td>\n",
       "    </tr>\n",
       "    <tr>\n",
       "      <th>3448</th>\n",
       "      <td>\\n: Can anyone tell me where to find a MPEG vi...</td>\n",
       "    </tr>\n",
       "    <tr>\n",
       "      <th>3449</th>\n",
       "      <td>\\n</td>\n",
       "    </tr>\n",
       "    <tr>\n",
       "      <th>3450</th>\n",
       "      <td>\\nHey Valentine, I don't see Boston with any w...</td>\n",
       "    </tr>\n",
       "  </tbody>\n",
       "</table>\n",
       "<p>3451 rows × 1 columns</p>\n",
       "</div>"
      ],
      "text/plain": [
       "                                                 corpus\n",
       "0     \\nThey tried their best not to show it, believ...\n",
       "1     \\nStankiewicz?  I doubt it.\\n\\nKoufax was one ...\n",
       "2     \\n[deletia- and so on]\\n\\nI seem to have been ...\n",
       "3     Excuse the sheer newbieness of this post, but ...\n",
       "4     ==============================================...\n",
       "...                                                 ...\n",
       "3446  \\n  Or, with no dictionary available, they cou...\n",
       "3447  \\n\\nSorry to disappoint you but the Red Wings ...\n",
       "3448  \\n: Can anyone tell me where to find a MPEG vi...\n",
       "3449                                                 \\n\n",
       "3450  \\nHey Valentine, I don't see Boston with any w...\n",
       "\n",
       "[3451 rows x 1 columns]"
      ]
     },
     "execution_count": 34,
     "metadata": {},
     "output_type": "execute_result"
    }
   ],
   "source": [
    "df = pd.DataFrame(dataset.data, columns=[\"corpus\"])\n",
    "df"
   ]
  },
  {
   "cell_type": "code",
   "execution_count": 35,
   "id": "ae932939",
   "metadata": {},
   "outputs": [],
   "source": [
    "def preprocess_text(text: str, remove_stopwords: bool) -> str:\n",
    "    # remove links\n",
    "    text = re.sub(r\"http\\S+\", \"\", text)\n",
    "    # remove special chars and numbers\n",
    "    text = re.sub(r'[^a-zA-Z\\s]', '', text)\n",
    "    # remove stopwords\n",
    "    if remove_stopwords:\n",
    "        # 1. tokenize\n",
    "        tokens = nltk.word_tokenize(text)\n",
    "        # 2. check if stopword\n",
    "        tokens = [w for w in tokens if not w.lower() in stopwords.words(\"english\")]\n",
    "        # 3. join back together\n",
    "        text = \" \".join(tokens)\n",
    "        # return text in lowercase and stripped of whitespaces\n",
    "    text = text.lower().strip()\n",
    "    return text"
   ]
  },
  {
   "cell_type": "code",
   "execution_count": 36,
   "id": "5d2360ea",
   "metadata": {},
   "outputs": [],
   "source": [
    "df['cleaned'] = df['corpus'].apply(lambda x: preprocess_text(x, remove_stopwords = True))"
   ]
  },
  {
   "cell_type": "code",
   "execution_count": 37,
   "id": "ef856d2e",
   "metadata": {},
   "outputs": [
    {
     "data": {
      "text/html": [
       "<div>\n",
       "<style scoped>\n",
       "    .dataframe tbody tr th:only-of-type {\n",
       "        vertical-align: middle;\n",
       "    }\n",
       "\n",
       "    .dataframe tbody tr th {\n",
       "        vertical-align: top;\n",
       "    }\n",
       "\n",
       "    .dataframe thead th {\n",
       "        text-align: right;\n",
       "    }\n",
       "</style>\n",
       "<table border=\"1\" class=\"dataframe\">\n",
       "  <thead>\n",
       "    <tr style=\"text-align: right;\">\n",
       "      <th></th>\n",
       "      <th>corpus</th>\n",
       "      <th>cleaned</th>\n",
       "    </tr>\n",
       "  </thead>\n",
       "  <tbody>\n",
       "    <tr>\n",
       "      <th>0</th>\n",
       "      <td>\\nThey tried their best not to show it, believ...</td>\n",
       "      <td>tried best show believe im surprised couldnt f...</td>\n",
       "    </tr>\n",
       "    <tr>\n",
       "      <th>1</th>\n",
       "      <td>\\nStankiewicz?  I doubt it.\\n\\nKoufax was one ...</td>\n",
       "      <td>stankiewicz doubt koufax one two jewish hofs h...</td>\n",
       "    </tr>\n",
       "    <tr>\n",
       "      <th>2</th>\n",
       "      <td>\\n[deletia- and so on]\\n\\nI seem to have been ...</td>\n",
       "      <td>deletia seem rather unclear asking please show...</td>\n",
       "    </tr>\n",
       "    <tr>\n",
       "      <th>3</th>\n",
       "      <td>Excuse the sheer newbieness of this post, but ...</td>\n",
       "      <td>excuse sheer newbieness post looking decent pa...</td>\n",
       "    </tr>\n",
       "    <tr>\n",
       "      <th>4</th>\n",
       "      <td>==============================================...</td>\n",
       "      <td></td>\n",
       "    </tr>\n",
       "    <tr>\n",
       "      <th>...</th>\n",
       "      <td>...</td>\n",
       "      <td>...</td>\n",
       "    </tr>\n",
       "    <tr>\n",
       "      <th>3446</th>\n",
       "      <td>\\n  Or, with no dictionary available, they cou...</td>\n",
       "      <td>dictionary available could gain first hand kno...</td>\n",
       "    </tr>\n",
       "    <tr>\n",
       "      <th>3447</th>\n",
       "      <td>\\n\\nSorry to disappoint you but the Red Wings ...</td>\n",
       "      <td>sorry disappoint red wings earned victoryeasil...</td>\n",
       "    </tr>\n",
       "    <tr>\n",
       "      <th>3448</th>\n",
       "      <td>\\n: Can anyone tell me where to find a MPEG vi...</td>\n",
       "      <td>anyone tell find mpeg viewer either dos window...</td>\n",
       "    </tr>\n",
       "    <tr>\n",
       "      <th>3449</th>\n",
       "      <td>\\n</td>\n",
       "      <td></td>\n",
       "    </tr>\n",
       "    <tr>\n",
       "      <th>3450</th>\n",
       "      <td>\\nHey Valentine, I don't see Boston with any w...</td>\n",
       "      <td>hey valentine dont see boston world series rin...</td>\n",
       "    </tr>\n",
       "  </tbody>\n",
       "</table>\n",
       "<p>3451 rows × 2 columns</p>\n",
       "</div>"
      ],
      "text/plain": [
       "                                                 corpus   \n",
       "0     \\nThey tried their best not to show it, believ...  \\\n",
       "1     \\nStankiewicz?  I doubt it.\\n\\nKoufax was one ...   \n",
       "2     \\n[deletia- and so on]\\n\\nI seem to have been ...   \n",
       "3     Excuse the sheer newbieness of this post, but ...   \n",
       "4     ==============================================...   \n",
       "...                                                 ...   \n",
       "3446  \\n  Or, with no dictionary available, they cou...   \n",
       "3447  \\n\\nSorry to disappoint you but the Red Wings ...   \n",
       "3448  \\n: Can anyone tell me where to find a MPEG vi...   \n",
       "3449                                                 \\n   \n",
       "3450  \\nHey Valentine, I don't see Boston with any w...   \n",
       "\n",
       "                                                cleaned  \n",
       "0     tried best show believe im surprised couldnt f...  \n",
       "1     stankiewicz doubt koufax one two jewish hofs h...  \n",
       "2     deletia seem rather unclear asking please show...  \n",
       "3     excuse sheer newbieness post looking decent pa...  \n",
       "4                                                        \n",
       "...                                                 ...  \n",
       "3446  dictionary available could gain first hand kno...  \n",
       "3447  sorry disappoint red wings earned victoryeasil...  \n",
       "3448  anyone tell find mpeg viewer either dos window...  \n",
       "3449                                                     \n",
       "3450  hey valentine dont see boston world series rin...  \n",
       "\n",
       "[3451 rows x 2 columns]"
      ]
     },
     "execution_count": 37,
     "metadata": {},
     "output_type": "execute_result"
    }
   ],
   "source": [
    "df"
   ]
  },
  {
   "cell_type": "code",
   "execution_count": 38,
   "id": "6f68d6f2",
   "metadata": {},
   "outputs": [
    {
     "name": "stdout",
     "output_type": "stream",
     "text": [
      "[[0 0 0 ... 0 0 0]\n",
      " [0 0 0 ... 0 0 0]\n",
      " [1 0 0 ... 0 0 0]\n",
      " ...\n",
      " [0 0 0 ... 0 0 0]\n",
      " [0 0 0 ... 0 0 0]\n",
      " [0 0 0 ... 0 0 0]]\n"
     ]
    }
   ],
   "source": [
    "from sklearn.feature_extraction.text import CountVectorizer\n",
    "cv = CountVectorizer()\n",
    "Features = cv.fit_transform(df['cleaned']).toarray()\n",
    "print(Features)"
   ]
  },
  {
   "cell_type": "code",
   "execution_count": 39,
   "id": "0a50827c",
   "metadata": {},
   "outputs": [
    {
     "name": "stderr",
     "output_type": "stream",
     "text": [
      "/Users/farrelmanazilin/tomatopotato/lib/python3.10/site-packages/sklearn/cluster/_kmeans.py:870: FutureWarning: The default value of `n_init` will change from 10 to 'auto' in 1.4. Set the value of `n_init` explicitly to suppress the warning\n",
      "  warnings.warn(\n",
      "/Users/farrelmanazilin/tomatopotato/lib/python3.10/site-packages/sklearn/cluster/_kmeans.py:870: FutureWarning: The default value of `n_init` will change from 10 to 'auto' in 1.4. Set the value of `n_init` explicitly to suppress the warning\n",
      "  warnings.warn(\n"
     ]
    }
   ],
   "source": [
    "from sklearn.cluster import KMeans\n",
    "import numpy as np\n",
    "from sklearn.metrics.pairwise import cosine_distances\n",
    "\n",
    "num_clusters = 3  \n",
    "kmeans_euclidean = KMeans(n_clusters=num_clusters, random_state=0)\n",
    "kmeans_cosine = KMeans(n_clusters=num_clusters, random_state=0)\n",
    "\n",
    "kmeans_euclidean.fit(Features)\n",
    "kmeans_cosine.fit(Features)\n",
    "\n",
    "cluster_labels_euclidean = kmeans_euclidean.labels_\n",
    "\n",
    "distances_cosine = cosine_distances(Features, kmeans_cosine.cluster_centers_)\n",
    "\n",
    "closest_cluster_cosine = np.argmin(distances_cosine, axis=1)"
   ]
  },
  {
   "cell_type": "code",
   "execution_count": 40,
   "id": "2a5e1b6a",
   "metadata": {},
   "outputs": [],
   "source": [
    "pca = PCA(n_components=2, random_state=42) \n",
    "pca_vecs = pca.fit_transform(Features) \n",
    "x0 = pca_vecs[:, 0]\n",
    "x1 = pca_vecs[:, 1]"
   ]
  },
  {
   "cell_type": "code",
   "execution_count": 41,
   "id": "ad5634fa",
   "metadata": {},
   "outputs": [
    {
     "name": "stdout",
     "output_type": "stream",
     "text": [
      "                                                 corpus   \n",
      "0     \\nThey tried their best not to show it, believ...  \\\n",
      "1     \\nStankiewicz?  I doubt it.\\n\\nKoufax was one ...   \n",
      "2     \\n[deletia- and so on]\\n\\nI seem to have been ...   \n",
      "3     Excuse the sheer newbieness of this post, but ...   \n",
      "4     ==============================================...   \n",
      "...                                                 ...   \n",
      "3446  \\n  Or, with no dictionary available, they cou...   \n",
      "3447  \\n\\nSorry to disappoint you but the Red Wings ...   \n",
      "3448  \\n: Can anyone tell me where to find a MPEG vi...   \n",
      "3449                                                 \\n   \n",
      "3450  \\nHey Valentine, I don't see Boston with any w...   \n",
      "\n",
      "                                                cleaned        x0        x1   \n",
      "0     tried best show believe im surprised couldnt f... -0.953340 -1.169113  \\\n",
      "1     stankiewicz doubt koufax one two jewish hofs h... -0.957197 -0.629680   \n",
      "2     deletia seem rather unclear asking please show... -0.964207 -0.018108   \n",
      "3     excuse sheer newbieness post looking decent pa... -0.956540 -0.213391   \n",
      "4                                                       -0.951464 -1.311045   \n",
      "...                                                 ...       ...       ...   \n",
      "3446  dictionary available could gain first hand kno... -0.955139 -0.886895   \n",
      "3447  sorry disappoint red wings earned victoryeasil... -0.958404 -0.824753   \n",
      "3448  anyone tell find mpeg viewer either dos window... -0.955166 -0.804225   \n",
      "3449                                                    -0.951464 -1.311045   \n",
      "3450  hey valentine dont see boston world series rin... -0.959258 -0.567192   \n",
      "\n",
      "      euclidean  cosine  \n",
      "0             0       0  \n",
      "1             0       0  \n",
      "2             0       0  \n",
      "3             0       2  \n",
      "4             0       0  \n",
      "...         ...     ...  \n",
      "3446          0       0  \n",
      "3447          0       0  \n",
      "3448          0       0  \n",
      "3449          0       0  \n",
      "3450          0       0  \n",
      "\n",
      "[3451 rows x 6 columns]\n"
     ]
    }
   ],
   "source": [
    "df['x0'] = x0\n",
    "df['x1'] = x1\n",
    "df['euclidean'] = kmeans_euclidean.labels_\n",
    "df['cosine'] = closest_cluster_cosine\n",
    "print(df)"
   ]
  },
  {
   "cell_type": "code",
   "execution_count": 42,
   "id": "905b36a5",
   "metadata": {},
   "outputs": [
    {
     "data": {
      "image/png": "[encoded data removed]",
      "text/plain": [
       "<Figure size 800x600 with 1 Axes>"
      ]
     },
     "metadata": {},
     "output_type": "display_data"
    },
    {
     "data": {
      "image/png": "[encoded data removed]",
      "text/plain": [
       "<Figure size 800x600 with 1 Axes>"
      ]
     },
     "metadata": {},
     "output_type": "display_data"
    }
   ],
   "source": [
    "import matplotlib.pyplot as plt\n",
    "import seaborn as sns\n",
    "\n",
    "# Visualisasi Euclidean\n",
    "plt.figure(figsize=(8, 6))\n",
    "sns.scatterplot(data=df, x='x0', y='x1', hue=cluster_labels_euclidean, palette='Set1')\n",
    "plt.title('K-Means Clustering (Euclidean)')\n",
    "plt.xlabel('x0')\n",
    "plt.ylabel('x1')\n",
    "plt.legend(title='Cluster', loc='upper right')\n",
    "plt.show()\n",
    "\n",
    "# Visualisasi Cosine Similarity\n",
    "plt.figure(figsize=(8, 6))\n",
    "sns.scatterplot(data=df, x='x0', y='x1', hue=closest_cluster_cosine, palette='Set1')\n",
    "plt.title('K-Means Clustering (Cosine Similarity)')\n",
    "plt.xlabel('x0')\n",
    "plt.ylabel('x1')\n",
    "plt.legend(title='Cluster', loc='upper right')\n",
    "plt.show()"
   ]
  },
  {
   "cell_type": "code",
   "execution_count": 43,
   "id": "55253af7",
   "metadata": {},
   "outputs": [
    {
     "name": "stdout",
     "output_type": "stream",
     "text": [
      "DBI Score (Euclidean): 0.7884566301518148\n",
      "Silhouette Score (Euclidean): 0.9293663677018371\n"
     ]
    }
   ],
   "source": [
    "from sklearn.metrics import davies_bouldin_score, silhouette_score\n",
    "\n",
    "# Menghitung DBI dan Silhouette Score untuk Euclidean\n",
    "dbi_euclidean = davies_bouldin_score(Features, cluster_labels_euclidean)\n",
    "silhouette_euclidean = silhouette_score(Features, cluster_labels_euclidean)\n",
    "\n",
    "print(\"DBI Score (Euclidean):\", dbi_euclidean)\n",
    "print(\"Silhouette Score (Euclidean):\", silhouette_euclidean)\n"
   ]
  },
  {
   "cell_type": "code",
   "execution_count": 44,
   "id": "0c256cbe",
   "metadata": {},
   "outputs": [
    {
     "name": "stdout",
     "output_type": "stream",
     "text": [
      "DBI Score (Cosine Similarity): 4.257461022888562\n",
      "Silhouette Score (Cosine Similarity): 0.07269020138108004\n"
     ]
    }
   ],
   "source": [
    "# Menghitung DBI dan Silhouette Score untuk Cosine Similarity\n",
    "dbi_cosine = davies_bouldin_score(Features, closest_cluster_cosine)\n",
    "silhouette_cosine = silhouette_score(Features, closest_cluster_cosine)\n",
    "\n",
    "print(\"DBI Score (Cosine Similarity):\", dbi_cosine)\n",
    "print(\"Silhouette Score (Cosine Similarity):\", silhouette_cosine)"
   ]
  },
  {
   "cell_type": "code",
   "execution_count": null,
   "id": "b1f09660",
   "metadata": {},
   "outputs": [],
   "source": []
  },
  {
   "cell_type": "code",
   "execution_count": null,
   "id": "94c1df71",
   "metadata": {},
   "outputs": [],
   "source": []
  }
 ],
 "metadata": {
  "kernelspec": {
   "display_name": "Python 3 (ipykernel)",
   "language": "python",
   "name": "python3"
  },
  "language_info": {
   "codemirror_mode": {
    "name": "ipython",
    "version": 3
   },
   "file_extension": ".py",
   "mimetype": "text/x-python",
   "name": "python",
   "nbconvert_exporter": "python",
   "pygments_lexer": "ipython3",
   "version": "3.10.6"
  }
 },
 "nbformat": 4,
 "nbformat_minor": 5
}
